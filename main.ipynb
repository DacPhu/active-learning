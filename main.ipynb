{
 "cells": [
  {
   "metadata": {},
   "cell_type": "markdown",
   "source": "# Download the dataset",
   "id": "284d09f65e5e3718"
  },
  {
   "metadata": {},
   "cell_type": "code",
   "outputs": [],
   "execution_count": null,
   "source": [
    "    import kagglehub\n",
    "    import shutil\n",
    "    import os\n",
    "\n",
    "    target_path = \"assets/datasets/\"\n",
    "    os.makedirs(target_path, exist_ok=True)\n",
    "\n",
    "    path = kagglehub.dataset_download(\"anhoangvo/acdc-dataset\")\n",
    "\n",
    "    source_path = \"/home/lap15406/.cache/kagglehub/\"\n",
    "    print(\"Path to datasets files:\", path)\n",
    "    shutil.move(source_path, target_path)\n",
    "    print(\"Dataset downloaded and moved to:\", target_path)"
   ],
   "id": "4101b73c439a69d1"
  }
 ],
 "metadata": {
  "kernelspec": {
   "display_name": "Python 3",
   "language": "python",
   "name": "python3"
  },
  "language_info": {
   "codemirror_mode": {
    "name": "ipython",
    "version": 2
   },
   "file_extension": ".py",
   "mimetype": "text/x-python",
   "name": "python",
   "nbconvert_exporter": "python",
   "pygments_lexer": "ipython2",
   "version": "2.7.6"
  }
 },
 "nbformat": 4,
 "nbformat_minor": 5
}
